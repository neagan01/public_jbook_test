{
 "cells": [
  {
   "cell_type": "markdown",
   "metadata": {},
   "source": [
    "# Chapter 2\n",
    "\n",
    "## Reactor types and design equations\n",
    "\n",
    "### Topics:\n",
    "2.1. Basic reaction types and stoichiometry \\\n",
    "2.2. Reaction stoichiometry \\\n",
    "2.3. Reactor design equations \\\n",
    "2.4. Reactor types: batch, CSTR, PFR, PBR, FBR \\\n",
    "2.5. Conversion and reactor sizing basics"
   ]
  },
  {
   "cell_type": "markdown",
   "metadata": {},
   "source": [
    "### 2.1. Basic concepts of chemical reactions\n",
    "\n",
    "A **chemical reaction** is the change of one or more of the following properties of one or more chemical entities:\n",
    "- Types of atoms\n",
    "- Numbers of atoms\n",
    "- Structure\n",
    "- Configuration\n",
    "\n",
    "We refer to the chemical entities we are starting with as the **reactants** and those which we are forming as the **products**. We use an arrow to separate these with the reactants on the left and products on the right. This arrow can point forward ($\\rightarrow$), backward ($\\leftarrow$), or  both ways ($\\leftrightarrow$, $\\rightleftarrows$, or $\\rightleftharpoons$). A \"$\\rightarrow$\" is often used generically and implies nothing further about the reaction than the identies of the reactants and the products. It can also be used to imply that the reaction is **irreversible** and only runs in the forward direction. Similarly, \"$\\leftarrow$\" may imply that the reaction is irreversible and only runs in the reverse direction. Two-directional arrows imply that the reaction is **reversible** and can operate in either direction. Reversibility will be discussed in further detail in Chapter 4.\n",
    "\n",
    "It should be noted that the specification as an entity as a \"reactant\" or \"product\" is more related to the situation than the reaction. By writing a reaction as $A\\rightleftarrows B$, for example, we are implying that we are going to have $A$ to start with and form $B$ as the reaction progresses. If we had started with $B$, however, we might have written the same reaction as $B\\rightleftarrows A$. In the former case $A$ is the reactant while in the latter case $B$ is the reactant. When we look at a reaction equation, however, we will assume it matches the situation at hand and refer to the entities on the left as reactants and those on the right as products.\n",
    "\n",
    "We can consider four general classes of reactions which can result in these. They include:\n",
    "- Isomerization: $ A\\rightleftarrows B $\n",
    "- Decomposition: $ A\\rightleftarrows B + C$\n",
    "- Combination: $ A + B \\rightleftarrows C$\n",
    "- Complex: $ A + B \\rightleftarrows C + D$\n",
    "\n",
    "**Isomerization** involves a single reactant and a single product. Some examples include double bond isomerization, skeletal isomerization, ring opening/closing, and stereoisomerization. One specific example is the isomerization of glucose (a sugar with a six-membered ring) to fructose (a sugar with a five-membered ring). This is performed because fructose tastes sweeter. High-fructose corn syrup is therefore a mixture of sugars high in fructose which is therefore particularly sweet.\n",
    "\n",
    "**Decomposition** involves the conversion of one molecule into two or more smaller ones. Some examples include dehydration, dehydrogenation, decarbonylation, and decarboxylation. Two particularly interesting reactions are short alkane dehydrogenation and short alcohol dehydration. Both yield short alkenes such as ethene and propene, high-volume molecules which serve as building blocks for a wide range of products including polyethylene and polypropylene. Both dehydrogenation and dehydration are considered to be more sustainable alternatives to conventional methods for alkene synthesis-cataltyic cracking of heavy fuel oils. Alkane dehydrogenation still relies on a fossil feedstock (natural gas), but it is generally much cleaner than oil. Alcohols, on the other hand, can be obtained from biomass. Most notably is ethanol, which comprises over 10% of all gasoline currently consumed in the United States.\n",
    "\n",
    "**Combination** is the reverse of decomposition, involving more than one entity combining to form one larger one. A common example is polymerization or oligomerization, the term used for polymerization when only a few monomers react (~2-10). Another different but very important example is ethylene hydrochlorination. The product (ethylene dichloride) is used to produce poly(vinyl chloride), or PVC.\n",
    "\n",
    "**Complex** reactions involve some combination of the former three and are generally observed. Intermolecular dehydration of alcohols, for example, is essentially a combination reaction but also releases water and therefore in some sense a decomposition reaction. One could also write a chemical reaction that formally involves many individual steps, such as the conversion of 10 ethylene molecules to ortho-xylene, butene, and hydrogen. Another particularly interesting example is the oxidation of para-xylene to produce terephthalic acid and water. Terephthalic acid is co-polymerized with ethylene glycol to produce PET (also known as PETE), the main plastic in water bottles. The ethylene glycol is commonly sourced from biomass, leading to companies calling the subsequent bottles, \"plant bottles.\" It is also possible to source the para-xylene from biomass, but it is more commonly sourced from petroleum.\n",
    "\n",
    "![C2-F1](images/C2-F1.png)\n",
    "#### Fig. 2-1. General reaction types and examples"
   ]
  },
  {
   "cell_type": "markdown",
   "metadata": {},
   "source": [
    "### 2.2. Reaction stoichometry\n",
    "\n",
    "The rate at which a species $j$ is produced due to a chemical reaction is given the symbol $r_j$. Note that this value is generally positive for products and negative for reactants. The rate of \"consumption\" of j can be therefore thought of as $-r_j$.\n",
    "\n",
    "This is related to the rate of the reaction itself ($r$) by the stoichiometric coefficient for the reaction, $\\nu_j$:\n",
    "\n",
    "$$r_j = \\nu_j \\cdot r$$\n",
    "\n",
    "It is very easy to invert this accidentally. Think about the following example to sort things out. Consider the reaction $A+2B\\rightarrow C+3D$. The rate of this reaction is $r$, and the stoichiometric coefficients are $\\nu_A=-1$, $\\nu_B=-2$, $\\nu_C=1$, and $\\nu_D=3$. The rates of production are therefore $r_A=-r$, $r_B=-2r$, $r_C=r$, and $r_D=3r$. In words, $r_A=-r$ is saying that \"every time the reaction occurs, one A is consumed.\" Similarly, $r_D=3$ means that \"every time the reaction occurs, three D are produced.\" The table below shows this for some generic reaction $aA+bB\\rightarrow cC+dD$.\n",
    "\n",
    "![C2-F2](images/C2-F2.png)\n",
    "#### Fig 2.2. Stoichometric coefficients and production rates for various species in generic reaction $aA+bB\\rightarrow cC+dD$.\n",
    "\n",
    "This can be useful to relate production rates of different species as well by noting that $r=\\frac{r_j}{\\nu_j}$. For the generic case, this leads to:\n",
    "\n",
    "$$r=\\frac{r_A}{-a}=\\frac{r_B}{-b}=\\frac{r_C}{c}=\\frac{r_D}{d}$$\n",
    "\n",
    "Rates are often measured intensively, and different nomenclature is used to distinguish the different possible bases. $r$ alone is generally used to convey rate per volume, $r'$ conveys rate per mass, $r''$ conveys rate per surface area, and $r'''$ conveys rate per \"site\" (used when a reaction occurs at a distinct location, e.g., catalysts).\n",
    "\n",
    "![C2-F3](images/C2-F3.png)\n",
    "#### Fig 2.3. Types of reaction rates."
   ]
  },
  {
   "cell_type": "markdown",
   "metadata": {},
   "source": [
    "### 2.3. Reactor design equations\n",
    "\n",
    "In future parts of this course, we will discuss what affects reaction rates and why, but for now we will discuss how to design a reactor assuming we already have this knowledge.\n",
    "\n",
    "First we must return to the general **material balance** equation for a system of unspecified shape. Here we will work with **mole balances** out of convenience, though we could just as easily work with mass balances. For the majority of the course, moles will be more useful. Here we use $F_j$ do denote the molar flow rate of species $j$ (with units of moles per time), while $N_j$ is the amount of moles (with units of only moles).\n",
    "\n",
    "Consider a generic system as shown in Fig. 2.4. below:\n",
    "\n",
    "![C2-F4](images/C2-F4.png)\n",
    "#### Fig. 2.4. A generic system. The \"system\" is also referred to as a \"control volume\" as it is meant to describe the volume within controlled borders.\n",
    "\n",
    "The generic material balance is:\n",
    "\n",
    "$$In - Out + Generation = Accumulation$$\n",
    "\n",
    "In terms of symbols in the diagram, this becomes:\n",
    "\n",
    "$$F_{j0} - F_j + G_j = \\frac{dN_j}{dt}$$\n",
    "\n",
    "Now we will not that **if there are no spatial variations in rate**, then\n",
    "\n",
    "$$G_j=r_j\\cdot V_s$$.\n",
    "\n",
    "Generally speaking there are spatial variations, however, so we will consider this control volume to be the sum of smaller volumes $V_i$ which do not have spatial variations (Fig. 2.5).\n",
    "\n",
    "![C2-F5](images/C2-F5.png)\n",
    "#### Fig. 2.5. The subdivision of one generic control volume $V_s$ into smaller control volumes.\n",
    "\n",
    "As such, we can note that:\n",
    "\n",
    "$$G_j=\\sum{r_{j,i}\\cdot V_i}$$\n",
    "\n",
    "We can further expand on this by noting that "
   ]
  },
  {
   "cell_type": "code",
   "execution_count": null,
   "metadata": {},
   "outputs": [],
   "source": []
  }
 ],
 "metadata": {
  "kernelspec": {
   "display_name": "Python 3",
   "language": "python",
   "name": "python3"
  },
  "language_info": {
   "codemirror_mode": {
    "name": "ipython",
    "version": 3
   },
   "file_extension": ".py",
   "mimetype": "text/x-python",
   "name": "python",
   "nbconvert_exporter": "python",
   "pygments_lexer": "ipython3",
   "version": "3.7.6"
  },
  "varInspector": {
   "cols": {
    "lenName": 16,
    "lenType": 16,
    "lenVar": 40
   },
   "kernels_config": {
    "python": {
     "delete_cmd_postfix": "",
     "delete_cmd_prefix": "del ",
     "library": "var_list.py",
     "varRefreshCmd": "print(var_dic_list())"
    },
    "r": {
     "delete_cmd_postfix": ") ",
     "delete_cmd_prefix": "rm(",
     "library": "var_list.r",
     "varRefreshCmd": "cat(var_dic_list()) "
    }
   },
   "types_to_exclude": [
    "module",
    "function",
    "builtin_function_or_method",
    "instance",
    "_Feature"
   ],
   "window_display": false
  }
 },
 "nbformat": 4,
 "nbformat_minor": 4
}
