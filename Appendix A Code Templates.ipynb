{
 "cells": [
  {
   "cell_type": "markdown",
   "metadata": {},
   "source": [
    "# Appendix A: Code templates\n",
    "\n",
    "Here templates are provided for various codes useful in reactor design:\n",
    "\n",
    "1. Non-linear system of equations solver\n",
    "2. Ordinary differential equations system solver"
   ]
  },
  {
   "cell_type": "markdown",
   "metadata": {},
   "source": [
    "## 1. Non-linear algebraic equations system solver"
   ]
  },
  {
   "cell_type": "code",
   "execution_count": null,
   "metadata": {},
   "outputs": [],
   "source": [
    "########## Non-linear system of equations solver ##########\n",
    "\n",
    "###### Import packages\n",
    "\n",
    "import numpy as np\n",
    "import pandas as pd\n",
    "import scipy.optimize as opt\n",
    "\n",
    "###### Specify known values\n",
    "\n",
    "### Constants\n",
    "Kc  = 0.1      # mol / L\n",
    "yA_0 = 1.0     # mol / mol\n",
    "P   = 3.0      # atm\n",
    "R   = 0.082    # atm L / mol K\n",
    "T   = 340      # K\n",
    "\n",
    "###### Define system of equations\n",
    "\n",
    "def alg(U):\n",
    "    \n",
    "    ### Redefine inputs\n",
    "    CA0 = U[0]\n",
    "    Xe = U[1]\n",
    "    \n",
    "    ### Define equations\n",
    "    setzero = np.zeros(len(U))\n",
    "    setzero[0] = CA0-yA_0*P/R/T\n",
    "    setzero[1] = Xe - (Kc*(1-Xe)/(4*CA0))**0.5\n",
    "    \n",
    "    ### Reorganize list to fit required dimensions \n",
    "    setzero = np.array(setzero).tolist()\n",
    "    \n",
    "    return setzero\n",
    "\n",
    "###### Solve based on initial guesses\n",
    "\n",
    "### Initial guesses\n",
    "varguess = [0.5,0.5]\n",
    "\n",
    "### Solver\n",
    "U = opt.fsolve(alg,varguess)   # Enter function vollowed by variable guesses\n",
    "U = np.array(U)                # Convert to numpy array for convenience\n",
    "\n",
    "### Verify that solution was achieved\n",
    "zerocheck = alg(U)\n",
    "print(\"Zerocheck: \",zerocheck)\n",
    "\n",
    "### Save results in dataframe\n",
    "soln = pd.DataFrame(['Var 1','Var 2'],columns = ['Variables'])\n",
    "soln[['Values']] = pd.DataFrame(U)\n",
    "soln"
   ]
  },
  {
   "cell_type": "markdown",
   "metadata": {},
   "source": [
    "## 2. Ordinary differential equations system solver"
   ]
  },
  {
   "cell_type": "code",
   "execution_count": null,
   "metadata": {},
   "outputs": [],
   "source": [
    "########## Ordinary differential equations system solver ##########\n",
    "\n",
    "###### Import packages\n",
    "\n",
    "import numpy as np\n",
    "import matplotlib.pyplot as plt\n",
    "from scipy.integrate import solve_ivp\n",
    "import pandas as pd\n",
    "\n",
    "###### Specify known values\n",
    "\n",
    "c1 = 1\n",
    "c2 = 0.2\n",
    "\n",
    "###### Set initial conditions of independent variables U\n",
    "\n",
    "U0 = [10,0] # In this example U0[0] is variable A and U0[1] is variable B\n",
    "\n",
    "###### Determine integration limits via independent variable array tlim\n",
    "tlim = (0,10)\n",
    "tlist = np.linspace(tlim[0],tlim[1],num=101) # Not essential--specifies intervals along tlim to store U values\n",
    "\n",
    "###### Define differential equations along with additional required calculations\n",
    "\n",
    "def diff(t,U):\n",
    "    \n",
    "    # Assign values to inputs if desired\n",
    "    A = U[0]\n",
    "    B = U[1]\n",
    "    \n",
    "    # Define equations\n",
    "    dU=np.zeros(len(U))\n",
    "    dU[0] = c1 - c2 * A**0.5\n",
    "    dU[1] = c2 * A**0.5\n",
    "    \n",
    "    # Reorganize list to fit required dimensions \n",
    "    dU = np.array(dU).tolist()\n",
    "    \n",
    "    return dU\n",
    "\n",
    "###### Integrate\n",
    "\n",
    "soln = solve_ivp(diff,tlim,U0,t_eval=tlist)\n",
    "\n",
    "### Obtain output dependent variable array U and independent variable array t\n",
    "\n",
    "U = soln.y.T # T makes transpose; not essential but easy for input to dataframe\n",
    "t = soln.t\n",
    "\n",
    "A = U[:,0] # Define individual variables within U if desired\n",
    "B = U[:,1]\n",
    "\n",
    "### Define pandas dataframe with outputs\n",
    "\n",
    "soln_df = pd.DataFrame(t,columns = ['Time (s)'])\n",
    "soln_df[['A (units)','B (units)']] = pd.DataFrame(U)\n",
    "\n",
    "### Save dataframe to a csv\n",
    "soln_df.to_csv('ODE_solver_output.csv')\n",
    "\n",
    "### Report dataframe\n",
    "soln_df"
   ]
  },
  {
   "cell_type": "code",
   "execution_count": null,
   "metadata": {},
   "outputs": [],
   "source": [
    "import plotly.graph_objects as go\n",
    "from plotly.subplots import make_subplots\n",
    "import numpy as np\n",
    "\n",
    "fig = make_subplots(rows=3,cols=1,specs=[[{\"secondary_y\": True}],[{\"secondary_y\": True}],[{\"secondary_y\": True}]])\n",
    "\n",
    "xvals = np.array([1,2,3,4,5])\n",
    "yvals = xvals**2\n",
    "\n",
    "fig.append_trace(go.Scatter(x=xvals,y=yvals,name='name of stuff'),row=1,col=1)\n",
    "\n",
    "fig.show()"
   ]
  },
  {
   "cell_type": "code",
   "execution_count": null,
   "metadata": {},
   "outputs": [],
   "source": [
    "import matplotlib.pyplot as plt\n",
    "import numpy as np\n",
    "\n",
    "xvals = np.array([1,2,3,4,5])\n",
    "yvals = xvals**2\n",
    "plt.plot(xvals,yvals)\n",
    "\n",
    "plt.show()"
   ]
  },
  {
   "cell_type": "code",
   "execution_count": null,
   "metadata": {},
   "outputs": [],
   "source": []
  }
 ],
 "metadata": {
  "kernelspec": {
   "display_name": "Python 3",
   "language": "python",
   "name": "python3"
  },
  "language_info": {
   "codemirror_mode": {
    "name": "ipython",
    "version": 3
   },
   "file_extension": ".py",
   "mimetype": "text/x-python",
   "name": "python",
   "nbconvert_exporter": "python",
   "pygments_lexer": "ipython3",
   "version": "3.7.6"
  },
  "varInspector": {
   "cols": {
    "lenName": 16,
    "lenType": 16,
    "lenVar": 40
   },
   "kernels_config": {
    "python": {
     "delete_cmd_postfix": "",
     "delete_cmd_prefix": "del ",
     "library": "var_list.py",
     "varRefreshCmd": "print(var_dic_list())"
    },
    "r": {
     "delete_cmd_postfix": ") ",
     "delete_cmd_prefix": "rm(",
     "library": "var_list.r",
     "varRefreshCmd": "cat(var_dic_list()) "
    }
   },
   "types_to_exclude": [
    "module",
    "function",
    "builtin_function_or_method",
    "instance",
    "_Feature"
   ],
   "window_display": false
  }
 },
 "nbformat": 4,
 "nbformat_minor": 4
}
