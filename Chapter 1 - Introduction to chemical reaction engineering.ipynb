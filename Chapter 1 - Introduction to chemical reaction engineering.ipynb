{
 "cells": [
  {
   "cell_type": "markdown",
   "metadata": {},
   "source": [
    "# Chapter 1\n",
    "\n",
    "## Introduction to chemical reaction engineering\n",
    "\n",
    "### Topics\n",
    "1.1. Reactor design within a chemical process \\\n",
    "1.2. The questions in chemical reaction engineering \\\n",
    "1.3. The chemical industry \\\n",
    "1.4. Why we care \\\n",
    "1.5. Looking ahead: the layout of this \"book\" \n"
   ]
  },
  {
   "cell_type": "markdown",
   "metadata": {},
   "source": [
    "### 1.1. Reactor design within a chemical process\n",
    "\n",
    "In this \"book\" we aim to understand the chemical reactor, the unit which often finds itself at the heart of chemical engineering processes. Ultimately it is here that we chemically transform species fed into a process to one or more chemically distinct entities.\n",
    "\n",
    "Before we venture to understand these units and the reactions occuring within them, we need to understand a bit about chemical engineering processes and where reactor design fits in.\n",
    "\n",
    "Below Fig. 1-1 shows a general block in a process flowsheet. Crossing the border of this block are (1) a feed entering the system, (2) desired products exiting, (3) unconverted reactants exiting, (4) undesired products exiting, and (5) energy transfer (either in or out).\n",
    "\n",
    "This process is highly generalized. It may simulate, for example, a full industrial process, a single block within a process, an organism (or part of one), an environmental system. The feeds can therefore include both raw materials and processed materials, the latter of which can be obtained from a previous block or a different process entirely. The intent of this system as a whole may be to (1) convert a lower-cost or lower-demand chemical feedstock to a higher-value or higher-demand product, (2) decompose a harmful material to one which is more benign, or (3) to generate energy and thus power a process or an organism. As such the \"reactor\" can be anything ranging from a formal chemical reactor to an engine to a living cell to a lake. The reactor outlet may then need further processing, including separations and recycle loops. When we design a chemical reactor, we must therefore keep in mind that separations will be a key part in determining how feasible our process is; the reactor alone will not tell us all we need to know.\n",
    "\n",
    "![C1-F1](images/C1-F1.png)\n",
    "#### Fig. 1-1. A basic block in a chemical process flowsheet."
   ]
  },
  {
   "cell_type": "markdown",
   "metadata": {},
   "source": [
    "### 1.2. The questions in chemical reaction engineering\n",
    "\n",
    "What are we typically asking questions about in chemical reaction engineering?\n",
    "\n",
    "- __Chemistry:__ nature of a chemical transformation including the \"mechanism\" and \"pathway\"\n",
    "\n",
    "- __Reaction rates:__ the speed of transformation\n",
    "\n",
    "- __Selectivity:__ the fraction of the feed going to a desired product vs an undesired one\n",
    "\n",
    "- __Reactor:__ the basic mode of operation (batch vs continuous), general flow pattern (fully mixed vs plug flow), advanced configurations (e.g., membrane reactors), size, energy requirements, cost, safety\n",
    "\n",
    "All of these can depend heavily on reaction conditions such as temperature, pressure, and the phase of matter.\n",
    "\n",
    "How do we address these questions? The \"toolkit\" we use includes:\n",
    "\n",
    "- Material balances\n",
    "- Rate expressions from mechanisms and experimental data\n",
    "- Thermodynamics (e.g., chemical equilibrium)\n",
    "- Energy balances\n",
    "- Mass transport equations\n",
    "\n",
    "What time scales are we typically operating in? Generally we will have to consider one or more vastly different time scales at a time ranging from the very short (bond breaking events on the order of picoseconds) to the very long (industrial processes on the order of days to years). These are generally summarized below in Fig. 1.2.\n",
    "\n",
    "![C1-F2](images/C1-F2.png)\n",
    "##### Fig 1.2. The time scales of chemical reaction engineering."
   ]
  },
  {
   "cell_type": "markdown",
   "metadata": {},
   "source": [
    "### 1.3. The chemical industry\n",
    "\n",
    "It is helpful to know generally who is making the chemicals we depend on and what those chemicals are. The top 10 chemical companies by revenue in 2019 according to thomasnet.com and statista.com are shown below in Table 1.1.\n",
    "\n",
    "#### Table 1.1. Top chemical producers globally\n",
    "| Top 10 Chemical Companies | Country | 2019 Revenue (billion $USD) |\n",
    "| :------------------------ |:------: | :----------------------: |\n",
    "| 1.  BASF | Germany | 66 |\n",
    "| 2.  Sinopec | China | 62 |\n",
    "| 3.  Dow | USA | 43 |\n",
    "| 4.  Sabic | Saudi Arabia | 34 |\n",
    "| 5.  Ineos | UK | 32 |\n",
    "| 6.  Formosa Plastics | China | 31 |\n",
    "| 7.  LyondellBassell | Netherlands | 27 |\n",
    "| 8.  Mitsubishi Chemical | Japan | 27 |\n",
    "| 9.  ExxonMobil | USA | 27 |\n",
    "| 10. LG Chem | South Korea | 25 |\n",
    "\n",
    "Other major companies in the USA include Dupont and PPG in the 10-25 billion USD range and Air Products, Chevron Phillips, Eastman, Ecolab, Mosaic, Westlake, Hunstman, Univar, and Celanese in the 5-10 billion USD range. This list is by no means complete, however.\n",
    "\n",
    "What chemicals do we make in the US? Below Fig 1.3. shows select chemicals obtained from statista.com and their 2019 US production volumes, though the list is by no means complete. For example, it is missing the #1 chemical produced globally: sulfuric acid.\n",
    "\n",
    "![C1-F3](images/C1-F3.png)\n",
    "#### Figure 1.3. Selected major chemicals produced in the US sorted by 2019 US production volume."
   ]
  },
  {
   "cell_type": "markdown",
   "metadata": {},
   "source": [
    "### 1.4. Why we care\n",
    "\n",
    "There are a lot of motivations for chemical reactor design, but we can list a few examples below:\n",
    "\n",
    " - __Sustainability__: Improving reactor designs can lead to lower energy consumption and lessened pollution. The purpose of many reactors is in fact solely to mitigate pollution (such as the catalytic converter in cars). Furthermore, designing novel reactors, processes, and catalysts to accelerate reactions, we can enable the use of more sustainable feedstocks than many of the non-renewable ones we rely upon today.\n",
    " - __Health__: By understanding the chemical reactions occuring in humans, animals, and nature, we can develop therapies to improve health and wellness.\n",
    " - __Profit__: Small improvements in reactor design can translate to large changes in process economics, in part because we may be designing very large scale processes. Whatever your motivation, profit will inevitably be a major driving force in your efforts. Ultimately money will talk, so if you care about sustainability or health your challenge will be to develop technologies which address these areas while also generating a profit.\n",
    " "
   ]
  },
  {
   "cell_type": "markdown",
   "metadata": {},
   "source": [
    "### 1.5. Looking ahead: the layout of this \"book\"\n",
    "\n",
    "This book was developed to support an undergraduate chemical engineering course focused on chemical reactor design. This course is divided into the following three modules:\n",
    "\n",
    "1. Isothermal reactor design with a single reaction (chapters 2-6) \n",
    "2. Multiple reactions and non-isothermal reactions (chapters 7-14)\n",
    "3. Reaction mechanisms and catalysis (chapters 15-19)\n",
    "\n",
    "This breakdown is useful for guiding a course, but it may not be conducive to your uses and therefore will not generally be discussed again. Instead, the book is broken down into the following chapters, each of which contains the material corresponding to approximately one-three 75-minute lectures:\n",
    "\n",
    "1. Introduction to chemical reaction engineering\n",
    "2. Reactor types and design equations\n",
    "3. Conversion, sizing basics, rate expressions, and kinetic theories\n",
    "4. Reaction equilibrium and reversible reactions\n",
    "5. Reactor design examples\n",
    "6. Generating rate expressions from experimental data\n",
    "7. Multiple reaction basics\n",
    "8. Parallel reactions\n",
    "9. Series reactions\n",
    "10. Mixed multiple reactions\n",
    "11. Bioreactor basics\n",
    "12. Energy balances and adiabatic reactors\n",
    "13. Heat exchange in reactors\n",
    "14. Non-steady state energy balances and runaway reactions\n",
    "15. Reaction mechanisms and catalysis\n",
    "16. Enzyme kinetics\n",
    "17. Heterogeneous catalysis basics\n",
    "18. Surface reaction kinetics\n",
    "19. Diffusion limitations in heterogeneous catalysis\n",
    "20. Outlook\n",
    "\n",
    "To solve the problems presented in this course, both analytical and numerical methods will need to be applied. Numerical solutions will be obtained with Python-based packages. A basic understanding of Python will be required to complete the course. While there are a wide variety of resources online which you can consult to learn these skills, particularly useful ones for chemical engineering include (1) pycse and various other resources by Dr. John Kitchin of Carnegie Mellon University and (2) online materials for the \"Programming for Engineers\" course taught by Dr. John Hedengren of Brigham Young University."
   ]
  },
  {
   "cell_type": "code",
   "execution_count": null,
   "metadata": {},
   "outputs": [],
   "source": []
  }
 ],
 "metadata": {
  "kernelspec": {
   "display_name": "Python 3",
   "language": "python",
   "name": "python3"
  },
  "language_info": {
   "codemirror_mode": {
    "name": "ipython",
    "version": 3
   },
   "file_extension": ".py",
   "mimetype": "text/x-python",
   "name": "python",
   "nbconvert_exporter": "python",
   "pygments_lexer": "ipython3",
   "version": "3.7.6"
  },
  "varInspector": {
   "cols": {
    "lenName": 16,
    "lenType": 16,
    "lenVar": 40
   },
   "kernels_config": {
    "python": {
     "delete_cmd_postfix": "",
     "delete_cmd_prefix": "del ",
     "library": "var_list.py",
     "varRefreshCmd": "print(var_dic_list())"
    },
    "r": {
     "delete_cmd_postfix": ") ",
     "delete_cmd_prefix": "rm(",
     "library": "var_list.r",
     "varRefreshCmd": "cat(var_dic_list()) "
    }
   },
   "types_to_exclude": [
    "module",
    "function",
    "builtin_function_or_method",
    "instance",
    "_Feature"
   ],
   "window_display": false
  }
 },
 "nbformat": 4,
 "nbformat_minor": 4
}
