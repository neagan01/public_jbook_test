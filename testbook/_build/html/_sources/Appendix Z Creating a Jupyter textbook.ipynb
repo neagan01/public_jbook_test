{
 "cells": [
  {
   "cell_type": "markdown",
   "metadata": {},
   "source": [
    "# Appendix Z: Creating your own Jupyter Book textbook\n",
    "\n",
    "Here the procedure used to develop this textbook (created 2022-2023) is described. This was created on a Windows 10 machine. This is by no means the best way to do this, it is simply the way it was done here.\n",
    "\n",
    "1. Install Anaconda from https://www.anaconda.com/\n",
    "2. Create new Python 3.7 environment was created in Anaconda by going to the Environments tab and selecting \"create\". Call it \"py37\". This may help with Windows compatibility issues.\n",
    "3. Run Anaconda Prompt (found in Programs/Anaconda3 (64-bit)/)\n",
    "4. Load environment with \"activate py37\"\n",
    "5. Install jupyter books with the command \"conda install -c conda-forge jupyter-book\". It may take a bit to successfully install.\n",
    "6. Navigate to the folder where you will create your book.\n",
    "7. Create a template book with \"jupyter-book create bookname\"\n",
    "8. Build the book with command \"jupyter-book build bookname\"\n",
    "9. With an appropriate editor (e.g., Notebook++), modify your title and other details in the \"_config.yml\" file.\n",
    "10. Move your book contents into the \"bookname\" folder.\n",
    "11. Define the organization of your book by editing the \"_toc.yml\" file\n",
    "12. Open book by navigating to \"bookname/_build/html\" and opening an html file to jump to that chapter of the book."
   ]
  },
  {
   "cell_type": "markdown",
   "metadata": {},
   "source": [
    "## Additional resources for building Jupyter notebooks and textbooks for chemical engineering courses\n",
    "\n",
    "1. Jupyter book current documentation: https://jupyterbook.org/en/stable/intro.html\n",
    "2. Dominguez et al., 2021, Teaching chemical engineering using Jupyter notebook: Problem generators and lecturing tools. https://doi.org/10.1016/j.ece.2021.06.004\n"
   ]
  },
  {
   "cell_type": "code",
   "execution_count": null,
   "metadata": {},
   "outputs": [],
   "source": []
  }
 ],
 "metadata": {
  "kernelspec": {
   "display_name": "Python 3",
   "language": "python",
   "name": "python3"
  },
  "language_info": {
   "codemirror_mode": {
    "name": "ipython",
    "version": 3
   },
   "file_extension": ".py",
   "mimetype": "text/x-python",
   "name": "python",
   "nbconvert_exporter": "python",
   "pygments_lexer": "ipython3",
   "version": "3.7.6"
  },
  "varInspector": {
   "cols": {
    "lenName": 16,
    "lenType": 16,
    "lenVar": 40
   },
   "kernels_config": {
    "python": {
     "delete_cmd_postfix": "",
     "delete_cmd_prefix": "del ",
     "library": "var_list.py",
     "varRefreshCmd": "print(var_dic_list())"
    },
    "r": {
     "delete_cmd_postfix": ") ",
     "delete_cmd_prefix": "rm(",
     "library": "var_list.r",
     "varRefreshCmd": "cat(var_dic_list()) "
    }
   },
   "types_to_exclude": [
    "module",
    "function",
    "builtin_function_or_method",
    "instance",
    "_Feature"
   ],
   "window_display": false
  }
 },
 "nbformat": 4,
 "nbformat_minor": 4
}
